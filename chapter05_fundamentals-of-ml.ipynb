{
 "cells": [
  {
   "cell_type": "markdown",
   "metadata": {
    "colab_type": "text"
   },
   "source": [
    "This is a companion notebook for the book [Deep Learning with Python, Second Edition](https://www.manning.com/books/deep-learning-with-python-second-edition?a_aid=keras&a_bid=76564dff). For readability, it only contains runnable code blocks and section titles, and omits everything else in the book: text paragraphs, figures, and pseudocode.\n",
    "\n",
    "**If you want to be able to follow what's going on, I recommend reading the notebook side by side with your copy of the book.**\n",
    "\n",
    "This notebook was generated for TensorFlow 2.6."
   ]
  },
  {
   "cell_type": "markdown",
   "metadata": {
    "colab_type": "text"
   },
   "source": [
    "# Fundamentals of machine learning"
   ]
  },
  {
   "cell_type": "markdown",
   "metadata": {
    "colab_type": "text"
   },
   "source": [
    "## Generalization: The goal of machine learning"
   ]
  },
  {
   "cell_type": "markdown",
   "metadata": {
    "colab_type": "text"
   },
   "source": [
    "### Underfitting and overfitting"
   ]
  },
  {
   "cell_type": "markdown",
   "metadata": {
    "colab_type": "text"
   },
   "source": [
    "#### Noisy training data"
   ]
  },
  {
   "cell_type": "markdown",
   "metadata": {
    "colab_type": "text"
   },
   "source": [
    "#### Ambiguous features"
   ]
  },
  {
   "cell_type": "markdown",
   "metadata": {
    "colab_type": "text"
   },
   "source": [
    "#### Rare features and spurious correlations"
   ]
  },
  {
   "cell_type": "markdown",
   "metadata": {
    "colab_type": "text"
   },
   "source": [
    "**Adding white-noise channels or all-zeros channels to MNIST**"
   ]
  },
  {
   "cell_type": "code",
   "execution_count": 1,
   "metadata": {
    "colab_type": "code"
   },
   "outputs": [],
   "source": [
    "from tensorflow.keras.datasets import mnist\n",
    "import numpy as np\n",
    "\n",
    "(train_images, train_labels), _ = mnist.load_data()\n",
    "train_images = train_images.reshape((60000, 28 * 28))\n",
    "train_images = train_images.astype(\"float32\") / 255\n",
    "\n",
    "train_images_with_noise_channels = np.concatenate(\n",
    "    [train_images, np.random.random((len(train_images), 784))], axis=1)\n",
    "\n",
    "train_images_with_zeros_channels = np.concatenate(\n",
    "    [train_images, np.zeros((len(train_images), 784))], axis=1)"
   ]
  },
  {
   "cell_type": "markdown",
   "metadata": {
    "colab_type": "text"
   },
   "source": [
    "**Training the same model on MNIST data with noise channels or all-zero channels**"
   ]
  },
  {
   "cell_type": "code",
   "execution_count": 2,
   "metadata": {
    "colab_type": "code"
   },
   "outputs": [
    {
     "name": "stdout",
     "output_type": "stream",
     "text": [
      "Metal device set to: Apple M1\n",
      "\n",
      "systemMemory: 16.00 GB\n",
      "maxCacheSize: 5.33 GB\n",
      "\n"
     ]
    },
    {
     "name": "stderr",
     "output_type": "stream",
     "text": [
      "2022-06-14 10:07:36.606561: I tensorflow/core/common_runtime/pluggable_device/pluggable_device_factory.cc:305] Could not identify NUMA node of platform GPU ID 0, defaulting to 0. Your kernel may not have been built with NUMA support.\n",
      "2022-06-14 10:07:36.606714: I tensorflow/core/common_runtime/pluggable_device/pluggable_device_factory.cc:271] Created TensorFlow device (/job:localhost/replica:0/task:0/device:GPU:0 with 0 MB memory) -> physical PluggableDevice (device: 0, name: METAL, pci bus id: <undefined>)\n"
     ]
    },
    {
     "name": "stdout",
     "output_type": "stream",
     "text": [
      "Epoch 1/10\n"
     ]
    },
    {
     "name": "stderr",
     "output_type": "stream",
     "text": [
      "2022-06-14 10:07:37.036222: W tensorflow/core/platform/profile_utils/cpu_utils.cc:128] Failed to get CPU frequency: 0 Hz\n",
      "2022-06-14 10:07:37.558066: I tensorflow/core/grappler/optimizers/custom_graph_optimizer_registry.cc:113] Plugin optimizer for device_type GPU is enabled.\n"
     ]
    },
    {
     "name": "stdout",
     "output_type": "stream",
     "text": [
      "373/375 [============================>.] - ETA: 0s - loss: 0.6266 - accuracy: 0.8110"
     ]
    },
    {
     "name": "stderr",
     "output_type": "stream",
     "text": [
      "2022-06-14 10:07:41.901777: I tensorflow/core/grappler/optimizers/custom_graph_optimizer_registry.cc:113] Plugin optimizer for device_type GPU is enabled.\n"
     ]
    },
    {
     "name": "stdout",
     "output_type": "stream",
     "text": [
      "375/375 [==============================] - 5s 8ms/step - loss: 0.6250 - accuracy: 0.8114 - val_loss: 0.3939 - val_accuracy: 0.8777\n",
      "Epoch 2/10\n",
      "375/375 [==============================] - 3s 7ms/step - loss: 0.2482 - accuracy: 0.9234 - val_loss: 0.2103 - val_accuracy: 0.9352\n",
      "Epoch 3/10\n",
      "375/375 [==============================] - 3s 7ms/step - loss: 0.1619 - accuracy: 0.9497 - val_loss: 0.1516 - val_accuracy: 0.9556\n",
      "Epoch 4/10\n",
      "375/375 [==============================] - 3s 7ms/step - loss: 0.1163 - accuracy: 0.9642 - val_loss: 0.1458 - val_accuracy: 0.9567\n",
      "Epoch 5/10\n",
      "375/375 [==============================] - 3s 7ms/step - loss: 0.0853 - accuracy: 0.9730 - val_loss: 0.1256 - val_accuracy: 0.9639\n",
      "Epoch 6/10\n",
      "375/375 [==============================] - 3s 7ms/step - loss: 0.0649 - accuracy: 0.9793 - val_loss: 0.1443 - val_accuracy: 0.9596\n",
      "Epoch 7/10\n",
      "375/375 [==============================] - 3s 7ms/step - loss: 0.0479 - accuracy: 0.9855 - val_loss: 0.1417 - val_accuracy: 0.9614\n",
      "Epoch 8/10\n",
      "375/375 [==============================] - 3s 7ms/step - loss: 0.0366 - accuracy: 0.9883 - val_loss: 0.1175 - val_accuracy: 0.9693\n",
      "Epoch 9/10\n",
      "375/375 [==============================] - 3s 7ms/step - loss: 0.0275 - accuracy: 0.9909 - val_loss: 0.1350 - val_accuracy: 0.9682\n",
      "Epoch 10/10\n",
      "375/375 [==============================] - 3s 7ms/step - loss: 0.0220 - accuracy: 0.9927 - val_loss: 0.1600 - val_accuracy: 0.9618\n",
      "Epoch 1/10\n",
      " 17/375 [>.............................] - ETA: 2s - loss: 1.0861 - accuracy: 0.6861"
     ]
    },
    {
     "name": "stderr",
     "output_type": "stream",
     "text": [
      "2022-06-14 10:08:07.165906: I tensorflow/core/grappler/optimizers/custom_graph_optimizer_registry.cc:113] Plugin optimizer for device_type GPU is enabled.\n"
     ]
    },
    {
     "name": "stdout",
     "output_type": "stream",
     "text": [
      "368/375 [============================>.] - ETA: 0s - loss: 0.2945 - accuracy: 0.9150"
     ]
    },
    {
     "name": "stderr",
     "output_type": "stream",
     "text": [
      "2022-06-14 10:08:09.730540: I tensorflow/core/grappler/optimizers/custom_graph_optimizer_registry.cc:113] Plugin optimizer for device_type GPU is enabled.\n"
     ]
    },
    {
     "name": "stdout",
     "output_type": "stream",
     "text": [
      "375/375 [==============================] - 3s 8ms/step - loss: 0.2919 - accuracy: 0.9157 - val_loss: 0.1537 - val_accuracy: 0.9563\n",
      "Epoch 2/10\n",
      "375/375 [==============================] - 3s 7ms/step - loss: 0.1167 - accuracy: 0.9656 - val_loss: 0.1117 - val_accuracy: 0.9666\n",
      "Epoch 3/10\n",
      "375/375 [==============================] - 3s 7ms/step - loss: 0.0761 - accuracy: 0.9770 - val_loss: 0.0857 - val_accuracy: 0.9739\n",
      "Epoch 4/10\n",
      "375/375 [==============================] - 3s 7ms/step - loss: 0.0544 - accuracy: 0.9837 - val_loss: 0.0884 - val_accuracy: 0.9743\n",
      "Epoch 5/10\n",
      "375/375 [==============================] - 3s 7ms/step - loss: 0.0409 - accuracy: 0.9884 - val_loss: 0.0831 - val_accuracy: 0.9759\n",
      "Epoch 6/10\n",
      "375/375 [==============================] - 3s 7ms/step - loss: 0.0307 - accuracy: 0.9910 - val_loss: 0.0792 - val_accuracy: 0.9779\n",
      "Epoch 7/10\n",
      "375/375 [==============================] - 3s 7ms/step - loss: 0.0238 - accuracy: 0.9929 - val_loss: 0.0804 - val_accuracy: 0.9780\n",
      "Epoch 8/10\n",
      "375/375 [==============================] - 3s 7ms/step - loss: 0.0175 - accuracy: 0.9950 - val_loss: 0.0862 - val_accuracy: 0.9769\n",
      "Epoch 9/10\n",
      "375/375 [==============================] - 3s 7ms/step - loss: 0.0131 - accuracy: 0.9962 - val_loss: 0.0892 - val_accuracy: 0.9782\n",
      "Epoch 10/10\n",
      "375/375 [==============================] - 3s 7ms/step - loss: 0.0102 - accuracy: 0.9971 - val_loss: 0.0886 - val_accuracy: 0.9779\n"
     ]
    }
   ],
   "source": [
    "from tensorflow import keras\n",
    "from tensorflow.keras import layers\n",
    "\n",
    "def get_model():\n",
    "    model = keras.Sequential([\n",
    "        layers.Dense(512, activation=\"relu\"),\n",
    "        layers.Dense(10, activation=\"softmax\")\n",
    "    ])\n",
    "    model.compile(optimizer=\"rmsprop\",\n",
    "                  loss=\"sparse_categorical_crossentropy\",\n",
    "                  metrics=[\"accuracy\"])\n",
    "    return model\n",
    "\n",
    "model = get_model()\n",
    "history_noise = model.fit(\n",
    "    train_images_with_noise_channels, train_labels,\n",
    "    epochs=10,\n",
    "    batch_size=128,\n",
    "    validation_split=0.2)\n",
    "\n",
    "model = get_model()\n",
    "history_zeros = model.fit(\n",
    "    train_images_with_zeros_channels, train_labels,\n",
    "    epochs=10,\n",
    "    batch_size=128,\n",
    "    validation_split=0.2)"
   ]
  },
  {
   "cell_type": "markdown",
   "metadata": {
    "colab_type": "text"
   },
   "source": [
    "**Plotting a validation accuracy comparison**"
   ]
  },
  {
   "cell_type": "code",
   "execution_count": 3,
   "metadata": {
    "colab_type": "code"
   },
   "outputs": [
    {
     "data": {
      "text/plain": [
       "<matplotlib.legend.Legend at 0x29818cb50>"
      ]
     },
     "execution_count": 3,
     "metadata": {},
     "output_type": "execute_result"
    },
    {
     "data": {
      "image/png": "[encoded data removed]",
      "text/plain": [
       "<Figure size 432x288 with 1 Axes>"
      ]
     },
     "metadata": {
      "needs_background": "light"
     },
     "output_type": "display_data"
    }
   ],
   "source": [
    "import matplotlib.pyplot as plt\n",
    "val_acc_noise = history_noise.history[\"val_accuracy\"]\n",
    "val_acc_zeros = history_zeros.history[\"val_accuracy\"]\n",
    "epochs = range(1, 11)\n",
    "plt.plot(epochs, val_acc_noise, \"b-\",\n",
    "         label=\"Validation accuracy with noise channels\")\n",
    "plt.plot(epochs, val_acc_zeros, \"b--\",\n",
    "         label=\"Validation accuracy with zeros channels\")\n",
    "plt.title(\"Effect of noise channels on validation accuracy\")\n",
    "plt.xlabel(\"Epochs\")\n",
    "plt.ylabel(\"Accuracy\")\n",
    "plt.legend()"
   ]
  },
  {
   "cell_type": "markdown",
   "metadata": {
    "colab_type": "text"
   },
   "source": [
    "### The nature of generalization in deep learning"
   ]
  },
  {
   "cell_type": "markdown",
   "metadata": {
    "colab_type": "text"
   },
   "source": [
    "**Fitting a MNIST model with randomly shuffled labels**"
   ]
  },
  {
   "cell_type": "code",
   "execution_count": 4,
   "metadata": {
    "colab_type": "code"
   },
   "outputs": [
    {
     "name": "stdout",
     "output_type": "stream",
     "text": [
      "Epoch 1/100\n",
      " 17/375 [>.............................] - ETA: 2s - loss: 2.3841 - accuracy: 0.1071"
     ]
    },
    {
     "name": "stderr",
     "output_type": "stream",
     "text": [
      "2022-06-14 10:08:44.097837: I tensorflow/core/grappler/optimizers/custom_graph_optimizer_registry.cc:113] Plugin optimizer for device_type GPU is enabled.\n"
     ]
    },
    {
     "name": "stdout",
     "output_type": "stream",
     "text": [
      "371/375 [============================>.] - ETA: 0s - loss: 2.3181 - accuracy: 0.1029"
     ]
    },
    {
     "name": "stderr",
     "output_type": "stream",
     "text": [
      "2022-06-14 10:08:46.400243: I tensorflow/core/grappler/optimizers/custom_graph_optimizer_registry.cc:113] Plugin optimizer for device_type GPU is enabled.\n"
     ]
    },
    {
     "name": "stdout",
     "output_type": "stream",
     "text": [
      "375/375 [==============================] - 3s 7ms/step - loss: 2.3180 - accuracy: 0.1031 - val_loss: 2.3065 - val_accuracy: 0.1022\n",
      "Epoch 2/100\n",
      "375/375 [==============================] - 2s 6ms/step - loss: 2.3009 - accuracy: 0.1134 - val_loss: 2.3107 - val_accuracy: 0.1009\n",
      "Epoch 3/100\n",
      "375/375 [==============================] - 2s 6ms/step - loss: 2.2915 - accuracy: 0.1282 - val_loss: 2.3196 - val_accuracy: 0.1019\n",
      "Epoch 4/100\n",
      "375/375 [==============================] - 2s 6ms/step - loss: 2.2782 - accuracy: 0.1375 - val_loss: 2.3271 - val_accuracy: 0.1034\n",
      "Epoch 5/100\n",
      "375/375 [==============================] - 2s 6ms/step - loss: 2.2607 - accuracy: 0.1522 - val_loss: 2.3355 - val_accuracy: 0.1023\n",
      "Epoch 6/100\n",
      "375/375 [==============================] - 2s 6ms/step - loss: 2.2402 - accuracy: 0.1676 - val_loss: 2.3481 - val_accuracy: 0.1008\n",
      "Epoch 7/100\n",
      "375/375 [==============================] - 2s 7ms/step - loss: 2.2158 - accuracy: 0.1823 - val_loss: 2.3670 - val_accuracy: 0.1044\n",
      "Epoch 8/100\n",
      "375/375 [==============================] - 2s 6ms/step - loss: 2.1890 - accuracy: 0.1972 - val_loss: 2.3761 - val_accuracy: 0.1031\n",
      "Epoch 9/100\n",
      "375/375 [==============================] - 2s 6ms/step - loss: 2.1590 - accuracy: 0.2140 - val_loss: 2.3947 - val_accuracy: 0.1050\n",
      "Epoch 10/100\n",
      "375/375 [==============================] - 2s 6ms/step - loss: 2.1279 - accuracy: 0.2309 - val_loss: 2.4212 - val_accuracy: 0.1007\n",
      "Epoch 11/100\n",
      "375/375 [==============================] - 2s 6ms/step - loss: 2.0946 - accuracy: 0.2463 - val_loss: 2.4462 - val_accuracy: 0.1027\n",
      "Epoch 12/100\n",
      "375/375 [==============================] - 2s 6ms/step - loss: 2.0594 - accuracy: 0.2630 - val_loss: 2.4718 - val_accuracy: 0.1039\n",
      "Epoch 13/100\n",
      "375/375 [==============================] - 2s 6ms/step - loss: 2.0261 - accuracy: 0.2781 - val_loss: 2.5036 - val_accuracy: 0.1007\n",
      "Epoch 14/100\n",
      "375/375 [==============================] - 2s 7ms/step - loss: 1.9911 - accuracy: 0.2923 - val_loss: 2.5423 - val_accuracy: 0.1013\n",
      "Epoch 15/100\n",
      "375/375 [==============================] - 2s 7ms/step - loss: 1.9557 - accuracy: 0.3071 - val_loss: 2.5609 - val_accuracy: 0.1019\n",
      "Epoch 16/100\n",
      "375/375 [==============================] - 2s 7ms/step - loss: 1.9202 - accuracy: 0.3238 - val_loss: 2.6071 - val_accuracy: 0.1044\n",
      "Epoch 17/100\n",
      "375/375 [==============================] - 2s 7ms/step - loss: 1.8863 - accuracy: 0.3399 - val_loss: 2.6354 - val_accuracy: 0.1035\n",
      "Epoch 18/100\n",
      "375/375 [==============================] - 2s 7ms/step - loss: 1.8505 - accuracy: 0.3521 - val_loss: 2.6631 - val_accuracy: 0.1028\n",
      "Epoch 19/100\n",
      "375/375 [==============================] - 2s 6ms/step - loss: 1.8176 - accuracy: 0.3675 - val_loss: 2.6945 - val_accuracy: 0.1051\n",
      "Epoch 20/100\n",
      "375/375 [==============================] - 2s 6ms/step - loss: 1.7835 - accuracy: 0.3787 - val_loss: 2.7339 - val_accuracy: 0.1019\n",
      "Epoch 21/100\n",
      "375/375 [==============================] - 2s 7ms/step - loss: 1.7498 - accuracy: 0.3904 - val_loss: 2.7633 - val_accuracy: 0.1030\n",
      "Epoch 22/100\n",
      "375/375 [==============================] - 2s 6ms/step - loss: 1.7190 - accuracy: 0.4046 - val_loss: 2.8056 - val_accuracy: 0.1037\n",
      "Epoch 23/100\n",
      "375/375 [==============================] - 2s 6ms/step - loss: 1.6878 - accuracy: 0.4156 - val_loss: 2.8319 - val_accuracy: 0.1030\n",
      "Epoch 24/100\n",
      "375/375 [==============================] - 2s 6ms/step - loss: 1.6583 - accuracy: 0.4268 - val_loss: 2.8891 - val_accuracy: 0.1051\n",
      "Epoch 25/100\n",
      "375/375 [==============================] - 2s 7ms/step - loss: 1.6269 - accuracy: 0.4367 - val_loss: 2.9278 - val_accuracy: 0.1029\n",
      "Epoch 26/100\n",
      "375/375 [==============================] - 2s 6ms/step - loss: 1.5973 - accuracy: 0.4500 - val_loss: 2.9802 - val_accuracy: 0.1043\n",
      "Epoch 27/100\n",
      "375/375 [==============================] - 2s 6ms/step - loss: 1.5685 - accuracy: 0.4628 - val_loss: 3.0009 - val_accuracy: 0.1044\n",
      "Epoch 28/100\n",
      "375/375 [==============================] - 2s 7ms/step - loss: 1.5417 - accuracy: 0.4713 - val_loss: 3.0432 - val_accuracy: 0.1053\n",
      "Epoch 29/100\n",
      "375/375 [==============================] - 2s 6ms/step - loss: 1.5143 - accuracy: 0.4808 - val_loss: 3.0912 - val_accuracy: 0.1081\n",
      "Epoch 30/100\n",
      "375/375 [==============================] - 2s 6ms/step - loss: 1.4898 - accuracy: 0.4892 - val_loss: 3.1387 - val_accuracy: 0.1037\n",
      "Epoch 31/100\n",
      "375/375 [==============================] - 2s 6ms/step - loss: 1.4638 - accuracy: 0.4994 - val_loss: 3.1820 - val_accuracy: 0.1007\n",
      "Epoch 32/100\n",
      "375/375 [==============================] - 2s 7ms/step - loss: 1.4362 - accuracy: 0.5114 - val_loss: 3.2326 - val_accuracy: 0.1037\n",
      "Epoch 33/100\n",
      "375/375 [==============================] - 2s 6ms/step - loss: 1.4106 - accuracy: 0.5184 - val_loss: 3.2890 - val_accuracy: 0.1037\n",
      "Epoch 34/100\n",
      "375/375 [==============================] - 2s 6ms/step - loss: 1.3890 - accuracy: 0.5250 - val_loss: 3.3005 - val_accuracy: 0.1047\n",
      "Epoch 35/100\n",
      "375/375 [==============================] - 2s 7ms/step - loss: 1.3630 - accuracy: 0.5367 - val_loss: 3.3621 - val_accuracy: 0.1051\n",
      "Epoch 36/100\n",
      "375/375 [==============================] - 2s 6ms/step - loss: 1.3401 - accuracy: 0.5446 - val_loss: 3.4063 - val_accuracy: 0.1044\n",
      "Epoch 37/100\n",
      "375/375 [==============================] - 2s 6ms/step - loss: 1.3156 - accuracy: 0.5534 - val_loss: 3.4733 - val_accuracy: 0.1000\n",
      "Epoch 38/100\n",
      "375/375 [==============================] - 2s 6ms/step - loss: 1.2951 - accuracy: 0.5610 - val_loss: 3.5135 - val_accuracy: 0.1035\n",
      "Epoch 39/100\n",
      "375/375 [==============================] - 2s 7ms/step - loss: 1.2739 - accuracy: 0.5703 - val_loss: 3.5658 - val_accuracy: 0.1039\n",
      "Epoch 40/100\n",
      "375/375 [==============================] - 2s 6ms/step - loss: 1.2529 - accuracy: 0.5755 - val_loss: 3.6157 - val_accuracy: 0.1047\n",
      "Epoch 41/100\n",
      "375/375 [==============================] - 2s 7ms/step - loss: 1.2317 - accuracy: 0.5839 - val_loss: 3.6535 - val_accuracy: 0.1058\n",
      "Epoch 42/100\n",
      "375/375 [==============================] - 2s 6ms/step - loss: 1.2098 - accuracy: 0.5895 - val_loss: 3.7150 - val_accuracy: 0.1043\n",
      "Epoch 43/100\n",
      "375/375 [==============================] - 2s 6ms/step - loss: 1.1890 - accuracy: 0.5990 - val_loss: 3.7752 - val_accuracy: 0.1062\n",
      "Epoch 44/100\n",
      "375/375 [==============================] - 2s 6ms/step - loss: 1.1698 - accuracy: 0.6085 - val_loss: 3.8278 - val_accuracy: 0.1024\n",
      "Epoch 45/100\n",
      "375/375 [==============================] - 2s 6ms/step - loss: 1.1508 - accuracy: 0.6142 - val_loss: 3.8680 - val_accuracy: 0.1035\n",
      "Epoch 46/100\n",
      "375/375 [==============================] - 2s 6ms/step - loss: 1.1324 - accuracy: 0.6198 - val_loss: 3.9088 - val_accuracy: 0.1022\n",
      "Epoch 47/100\n",
      "375/375 [==============================] - 2s 7ms/step - loss: 1.1161 - accuracy: 0.6240 - val_loss: 3.9680 - val_accuracy: 0.1067\n",
      "Epoch 48/100\n",
      "375/375 [==============================] - 2s 6ms/step - loss: 1.0960 - accuracy: 0.6335 - val_loss: 4.0344 - val_accuracy: 0.1068\n",
      "Epoch 49/100\n",
      "375/375 [==============================] - 2s 6ms/step - loss: 1.0759 - accuracy: 0.6429 - val_loss: 4.1026 - val_accuracy: 0.1054\n",
      "Epoch 50/100\n",
      "375/375 [==============================] - 2s 6ms/step - loss: 1.0629 - accuracy: 0.6452 - val_loss: 4.1352 - val_accuracy: 0.1054\n",
      "Epoch 51/100\n",
      "375/375 [==============================] - 2s 7ms/step - loss: 1.0453 - accuracy: 0.6499 - val_loss: 4.2161 - val_accuracy: 0.1042\n",
      "Epoch 52/100\n",
      "375/375 [==============================] - 2s 6ms/step - loss: 1.0279 - accuracy: 0.6579 - val_loss: 4.2636 - val_accuracy: 0.1038\n",
      "Epoch 53/100\n",
      "375/375 [==============================] - 2s 6ms/step - loss: 1.0103 - accuracy: 0.6635 - val_loss: 4.2973 - val_accuracy: 0.1078\n",
      "Epoch 54/100\n",
      "375/375 [==============================] - 2s 7ms/step - loss: 0.9962 - accuracy: 0.6694 - val_loss: 4.3924 - val_accuracy: 0.1048\n",
      "Epoch 55/100\n",
      "375/375 [==============================] - 2s 6ms/step - loss: 0.9795 - accuracy: 0.6731 - val_loss: 4.4291 - val_accuracy: 0.1062\n",
      "Epoch 56/100\n",
      "375/375 [==============================] - 2s 6ms/step - loss: 0.9642 - accuracy: 0.6787 - val_loss: 4.4896 - val_accuracy: 0.1035\n",
      "Epoch 57/100\n",
      "375/375 [==============================] - 2s 6ms/step - loss: 0.9497 - accuracy: 0.6831 - val_loss: 4.5504 - val_accuracy: 0.1031\n",
      "Epoch 58/100\n",
      "375/375 [==============================] - 2s 7ms/step - loss: 0.9333 - accuracy: 0.6908 - val_loss: 4.6002 - val_accuracy: 0.1034\n",
      "Epoch 59/100\n",
      "375/375 [==============================] - 2s 6ms/step - loss: 0.9203 - accuracy: 0.6959 - val_loss: 4.6308 - val_accuracy: 0.1078\n",
      "Epoch 60/100\n",
      "375/375 [==============================] - 2s 6ms/step - loss: 0.9062 - accuracy: 0.6988 - val_loss: 4.7528 - val_accuracy: 0.1017\n",
      "Epoch 61/100\n",
      "375/375 [==============================] - 2s 7ms/step - loss: 0.8899 - accuracy: 0.7054 - val_loss: 4.8031 - val_accuracy: 0.1030\n",
      "Epoch 62/100\n",
      "375/375 [==============================] - 2s 6ms/step - loss: 0.8787 - accuracy: 0.7076 - val_loss: 4.8558 - val_accuracy: 0.1006\n",
      "Epoch 63/100\n",
      "375/375 [==============================] - 2s 6ms/step - loss: 0.8646 - accuracy: 0.7143 - val_loss: 4.8534 - val_accuracy: 0.1048\n",
      "Epoch 64/100\n",
      "375/375 [==============================] - 2s 6ms/step - loss: 0.8531 - accuracy: 0.7193 - val_loss: 4.9779 - val_accuracy: 0.1055\n",
      "Epoch 65/100\n",
      "375/375 [==============================] - 2s 7ms/step - loss: 0.8387 - accuracy: 0.7222 - val_loss: 5.0452 - val_accuracy: 0.1048\n",
      "Epoch 66/100\n",
      "375/375 [==============================] - 2s 6ms/step - loss: 0.8268 - accuracy: 0.7268 - val_loss: 5.0679 - val_accuracy: 0.1034\n",
      "Epoch 67/100\n",
      "375/375 [==============================] - 2s 6ms/step - loss: 0.8145 - accuracy: 0.7320 - val_loss: 5.1542 - val_accuracy: 0.1047\n",
      "Epoch 68/100\n",
      "375/375 [==============================] - 2s 6ms/step - loss: 0.8031 - accuracy: 0.7355 - val_loss: 5.1891 - val_accuracy: 0.1054\n",
      "Epoch 69/100\n",
      "375/375 [==============================] - 2s 6ms/step - loss: 0.7892 - accuracy: 0.7409 - val_loss: 5.2479 - val_accuracy: 0.1015\n",
      "Epoch 70/100\n",
      "375/375 [==============================] - 2s 6ms/step - loss: 0.7778 - accuracy: 0.7439 - val_loss: 5.3169 - val_accuracy: 0.1077\n",
      "Epoch 71/100\n",
      "375/375 [==============================] - 2s 6ms/step - loss: 0.7670 - accuracy: 0.7483 - val_loss: 5.3762 - val_accuracy: 0.1044\n",
      "Epoch 72/100\n",
      "375/375 [==============================] - 2s 6ms/step - loss: 0.7567 - accuracy: 0.7501 - val_loss: 5.4529 - val_accuracy: 0.1026\n",
      "Epoch 73/100\n",
      "375/375 [==============================] - 2s 6ms/step - loss: 0.7435 - accuracy: 0.7549 - val_loss: 5.4947 - val_accuracy: 0.1072\n",
      "Epoch 74/100\n",
      "375/375 [==============================] - 2s 6ms/step - loss: 0.7331 - accuracy: 0.7571 - val_loss: 5.6110 - val_accuracy: 0.1029\n",
      "Epoch 75/100\n",
      "375/375 [==============================] - 2s 6ms/step - loss: 0.7215 - accuracy: 0.7637 - val_loss: 5.6338 - val_accuracy: 0.1059\n",
      "Epoch 76/100\n",
      "375/375 [==============================] - 2s 7ms/step - loss: 0.7118 - accuracy: 0.7667 - val_loss: 5.6975 - val_accuracy: 0.1057\n",
      "Epoch 77/100\n",
      "375/375 [==============================] - 2s 6ms/step - loss: 0.7007 - accuracy: 0.7713 - val_loss: 5.7600 - val_accuracy: 0.1045\n",
      "Epoch 78/100\n",
      "375/375 [==============================] - 2s 6ms/step - loss: 0.6900 - accuracy: 0.7735 - val_loss: 5.7974 - val_accuracy: 0.1033\n",
      "Epoch 79/100\n",
      "375/375 [==============================] - 2s 7ms/step - loss: 0.6800 - accuracy: 0.7795 - val_loss: 5.8634 - val_accuracy: 0.1021\n",
      "Epoch 80/100\n",
      "375/375 [==============================] - 2s 6ms/step - loss: 0.6691 - accuracy: 0.7832 - val_loss: 5.9382 - val_accuracy: 0.1037\n",
      "Epoch 81/100\n",
      "375/375 [==============================] - 2s 6ms/step - loss: 0.6607 - accuracy: 0.7852 - val_loss: 6.0456 - val_accuracy: 0.1047\n",
      "Epoch 82/100\n",
      "375/375 [==============================] - 2s 6ms/step - loss: 0.6524 - accuracy: 0.7866 - val_loss: 6.0973 - val_accuracy: 0.1043\n",
      "Epoch 83/100\n",
      "375/375 [==============================] - 2s 6ms/step - loss: 0.6428 - accuracy: 0.7907 - val_loss: 6.1680 - val_accuracy: 0.1037\n",
      "Epoch 84/100\n",
      "375/375 [==============================] - 2s 6ms/step - loss: 0.6332 - accuracy: 0.7964 - val_loss: 6.1716 - val_accuracy: 0.1075\n",
      "Epoch 85/100\n",
      "375/375 [==============================] - 2s 6ms/step - loss: 0.6220 - accuracy: 0.7987 - val_loss: 6.2339 - val_accuracy: 0.1059\n",
      "Epoch 86/100\n",
      "375/375 [==============================] - 2s 6ms/step - loss: 0.6157 - accuracy: 0.8004 - val_loss: 6.3649 - val_accuracy: 0.1049\n",
      "Epoch 87/100\n",
      "375/375 [==============================] - 2s 7ms/step - loss: 0.6050 - accuracy: 0.8046 - val_loss: 6.4011 - val_accuracy: 0.1037\n",
      "Epoch 88/100\n",
      "375/375 [==============================] - 2s 6ms/step - loss: 0.5955 - accuracy: 0.8072 - val_loss: 6.4541 - val_accuracy: 0.1021\n",
      "Epoch 89/100\n",
      "375/375 [==============================] - 2s 6ms/step - loss: 0.5879 - accuracy: 0.8106 - val_loss: 6.5258 - val_accuracy: 0.1065\n",
      "Epoch 90/100\n",
      "375/375 [==============================] - 2s 6ms/step - loss: 0.5789 - accuracy: 0.8119 - val_loss: 6.6416 - val_accuracy: 0.1027\n",
      "Epoch 91/100\n",
      "375/375 [==============================] - 2s 6ms/step - loss: 0.5703 - accuracy: 0.8163 - val_loss: 6.6859 - val_accuracy: 0.1041\n",
      "Epoch 92/100\n",
      "375/375 [==============================] - 2s 6ms/step - loss: 0.5618 - accuracy: 0.8187 - val_loss: 6.7527 - val_accuracy: 0.1045\n",
      "Epoch 93/100\n",
      "375/375 [==============================] - 2s 6ms/step - loss: 0.5545 - accuracy: 0.8201 - val_loss: 6.7796 - val_accuracy: 0.1047\n",
      "Epoch 94/100\n",
      "375/375 [==============================] - 2s 7ms/step - loss: 0.5476 - accuracy: 0.8226 - val_loss: 6.8660 - val_accuracy: 0.1047\n",
      "Epoch 95/100\n",
      "375/375 [==============================] - 2s 6ms/step - loss: 0.5405 - accuracy: 0.8270 - val_loss: 6.9149 - val_accuracy: 0.1048\n",
      "Epoch 96/100\n",
      "375/375 [==============================] - 2s 6ms/step - loss: 0.5308 - accuracy: 0.8286 - val_loss: 7.0490 - val_accuracy: 0.1037\n",
      "Epoch 97/100\n",
      "375/375 [==============================] - 2s 7ms/step - loss: 0.5229 - accuracy: 0.8317 - val_loss: 7.0899 - val_accuracy: 0.1068\n",
      "Epoch 98/100\n",
      "375/375 [==============================] - 2s 6ms/step - loss: 0.5175 - accuracy: 0.8316 - val_loss: 7.1946 - val_accuracy: 0.1042\n",
      "Epoch 99/100\n",
      "375/375 [==============================] - 2s 6ms/step - loss: 0.5073 - accuracy: 0.8370 - val_loss: 7.2121 - val_accuracy: 0.1043\n",
      "Epoch 100/100\n",
      "375/375 [==============================] - 2s 6ms/step - loss: 0.5066 - accuracy: 0.8381 - val_loss: 7.2952 - val_accuracy: 0.1035\n"
     ]
    },
    {
     "data": {
      "text/plain": [
       "<keras.callbacks.History at 0x14b720370>"
      ]
     },
     "execution_count": 4,
     "metadata": {},
     "output_type": "execute_result"
    }
   ],
   "source": [
    "(train_images, train_labels), _ = mnist.load_data()\n",
    "train_images = train_images.reshape((60000, 28 * 28))\n",
    "train_images = train_images.astype(\"float32\") / 255\n",
    "\n",
    "random_train_labels = train_labels[:]\n",
    "np.random.shuffle(random_train_labels)\n",
    "\n",
    "model = keras.Sequential([\n",
    "    layers.Dense(512, activation=\"relu\"),\n",
    "    layers.Dense(10, activation=\"softmax\")\n",
    "])\n",
    "model.compile(optimizer=\"rmsprop\",\n",
    "              loss=\"sparse_categorical_crossentropy\",\n",
    "              metrics=[\"accuracy\"])\n",
    "model.fit(train_images, random_train_labels,\n",
    "          epochs=100,\n",
    "          batch_size=128,\n",
    "          validation_split=0.2)"
   ]
  },
  {
   "cell_type": "markdown",
   "metadata": {
    "colab_type": "text"
   },
   "source": [
    "#### The manifold hypothesis"
   ]
  },
  {
   "cell_type": "markdown",
   "metadata": {
    "colab_type": "text"
   },
   "source": [
    "#### Interpolation as a source of generalization"
   ]
  },
  {
   "cell_type": "markdown",
   "metadata": {
    "colab_type": "text"
   },
   "source": [
    "#### Why deep learning works"
   ]
  },
  {
   "cell_type": "markdown",
   "metadata": {
    "colab_type": "text"
   },
   "source": [
    "#### Training data is paramount"
   ]
  },
  {
   "cell_type": "markdown",
   "metadata": {
    "colab_type": "text"
   },
   "source": [
    "## Evaluating machine-learning models"
   ]
  },
  {
   "cell_type": "markdown",
   "metadata": {
    "colab_type": "text"
   },
   "source": [
    "### Training, validation, and test sets"
   ]
  },
  {
   "cell_type": "markdown",
   "metadata": {
    "colab_type": "text"
   },
   "source": [
    "#### Simple hold-out validation"
   ]
  },
  {
   "cell_type": "markdown",
   "metadata": {
    "colab_type": "text"
   },
   "source": [
    "#### K-fold validation"
   ]
  },
  {
   "cell_type": "markdown",
   "metadata": {
    "colab_type": "text"
   },
   "source": [
    "#### Iterated K-fold validation with shuffling"
   ]
  },
  {
   "cell_type": "markdown",
   "metadata": {
    "colab_type": "text"
   },
   "source": [
    "### Beating a common-sense baseline"
   ]
  },
  {
   "cell_type": "markdown",
   "metadata": {
    "colab_type": "text"
   },
   "source": [
    "### Things to keep in mind about model evaluation"
   ]
  },
  {
   "cell_type": "markdown",
   "metadata": {
    "colab_type": "text"
   },
   "source": [
    "## Improving model fit"
   ]
  },
  {
   "cell_type": "markdown",
   "metadata": {
    "colab_type": "text"
   },
   "source": [
    "### Tuning key gradient descent parameters"
   ]
  },
  {
   "cell_type": "markdown",
   "metadata": {
    "colab_type": "text"
   },
   "source": [
    "**Training a MNIST model with an incorrectly high learning rate**"
   ]
  },
  {
   "cell_type": "code",
   "execution_count": 5,
   "metadata": {
    "colab_type": "code"
   },
   "outputs": [
    {
     "name": "stdout",
     "output_type": "stream",
     "text": [
      "Epoch 1/10\n",
      " 17/375 [>.............................] - ETA: 2s - loss: 18080.5137 - accuracy: 0.5005"
     ]
    },
    {
     "name": "stderr",
     "output_type": "stream",
     "text": [
      "2022-06-14 10:12:52.846086: I tensorflow/core/grappler/optimizers/custom_graph_optimizer_registry.cc:113] Plugin optimizer for device_type GPU is enabled.\n"
     ]
    },
    {
     "name": "stdout",
     "output_type": "stream",
     "text": [
      "366/375 [============================>.] - ETA: 0s - loss: 864.9416 - accuracy: 0.4167"
     ]
    },
    {
     "name": "stderr",
     "output_type": "stream",
     "text": [
      "2022-06-14 10:12:55.059761: I tensorflow/core/grappler/optimizers/custom_graph_optimizer_registry.cc:113] Plugin optimizer for device_type GPU is enabled.\n"
     ]
    },
    {
     "name": "stdout",
     "output_type": "stream",
     "text": [
      "375/375 [==============================] - 3s 7ms/step - loss: 844.4446 - accuracy: 0.4133 - val_loss: 2.6510 - val_accuracy: 0.3022\n",
      "Epoch 2/10\n",
      "375/375 [==============================] - 2s 6ms/step - loss: 3.0815 - accuracy: 0.2571 - val_loss: 2.0055 - val_accuracy: 0.2436\n",
      "Epoch 3/10\n",
      "375/375 [==============================] - 2s 6ms/step - loss: 3.3418 - accuracy: 0.2575 - val_loss: 4.2558 - val_accuracy: 0.3072\n",
      "Epoch 4/10\n",
      "375/375 [==============================] - 2s 6ms/step - loss: 3.6109 - accuracy: 0.2596 - val_loss: 2.0855 - val_accuracy: 0.2183\n",
      "Epoch 5/10\n",
      "375/375 [==============================] - 2s 6ms/step - loss: 2.7326 - accuracy: 0.2507 - val_loss: 2.6725 - val_accuracy: 0.2521\n",
      "Epoch 6/10\n",
      "375/375 [==============================] - 2s 7ms/step - loss: 2.6153 - accuracy: 0.2409 - val_loss: 2.1534 - val_accuracy: 0.2245\n",
      "Epoch 7/10\n",
      "375/375 [==============================] - 3s 7ms/step - loss: 2.5754 - accuracy: 0.2756 - val_loss: 2.0998 - val_accuracy: 0.2367\n",
      "Epoch 8/10\n",
      "375/375 [==============================] - 2s 6ms/step - loss: 2.5953 - accuracy: 0.2547 - val_loss: 2.7901 - val_accuracy: 0.2874\n",
      "Epoch 9/10\n",
      "375/375 [==============================] - 2s 7ms/step - loss: 2.4797 - accuracy: 0.2652 - val_loss: 2.2177 - val_accuracy: 0.2306\n",
      "Epoch 10/10\n",
      "375/375 [==============================] - 2s 6ms/step - loss: 2.4451 - accuracy: 0.2450 - val_loss: 2.4162 - val_accuracy: 0.2463\n"
     ]
    },
    {
     "data": {
      "text/plain": [
       "<keras.callbacks.History at 0x35da0cc40>"
      ]
     },
     "execution_count": 5,
     "metadata": {},
     "output_type": "execute_result"
    }
   ],
   "source": [
    "(train_images, train_labels), _ = mnist.load_data()\n",
    "train_images = train_images.reshape((60000, 28 * 28))\n",
    "train_images = train_images.astype(\"float32\") / 255\n",
    "\n",
    "model = keras.Sequential([\n",
    "    layers.Dense(512, activation=\"relu\"),\n",
    "    layers.Dense(10, activation=\"softmax\")\n",
    "])\n",
    "model.compile(optimizer=keras.optimizers.RMSprop(1.),\n",
    "              loss=\"sparse_categorical_crossentropy\",\n",
    "              metrics=[\"accuracy\"])\n",
    "model.fit(train_images, train_labels,\n",
    "          epochs=10,\n",
    "          batch_size=128,\n",
    "          validation_split=0.2)"
   ]
  },
  {
   "cell_type": "markdown",
   "metadata": {
    "colab_type": "text"
   },
   "source": [
    "**The same model with a more appropriate learning rate**"
   ]
  },
  {
   "cell_type": "code",
   "execution_count": 6,
   "metadata": {
    "colab_type": "code"
   },
   "outputs": [
    {
     "name": "stdout",
     "output_type": "stream",
     "text": [
      "Epoch 1/10\n",
      " 18/375 [>.............................] - ETA: 2s - loss: 2.6753 - accuracy: 0.6072"
     ]
    },
    {
     "name": "stderr",
     "output_type": "stream",
     "text": [
      "2022-06-14 10:13:20.660109: I tensorflow/core/grappler/optimizers/custom_graph_optimizer_registry.cc:113] Plugin optimizer for device_type GPU is enabled.\n"
     ]
    },
    {
     "name": "stdout",
     "output_type": "stream",
     "text": [
      "369/375 [============================>.] - ETA: 0s - loss: 0.3704 - accuracy: 0.9093"
     ]
    },
    {
     "name": "stderr",
     "output_type": "stream",
     "text": [
      "2022-06-14 10:13:22.992628: I tensorflow/core/grappler/optimizers/custom_graph_optimizer_registry.cc:113] Plugin optimizer for device_type GPU is enabled.\n"
     ]
    },
    {
     "name": "stdout",
     "output_type": "stream",
     "text": [
      "375/375 [==============================] - 3s 7ms/step - loss: 0.3670 - accuracy: 0.9102 - val_loss: 0.1887 - val_accuracy: 0.9497\n",
      "Epoch 2/10\n",
      "375/375 [==============================] - 2s 6ms/step - loss: 0.1413 - accuracy: 0.9639 - val_loss: 0.1481 - val_accuracy: 0.9658\n",
      "Epoch 3/10\n",
      "375/375 [==============================] - 2s 7ms/step - loss: 0.1132 - accuracy: 0.9731 - val_loss: 0.1769 - val_accuracy: 0.9645\n",
      "Epoch 4/10\n",
      "375/375 [==============================] - 2s 6ms/step - loss: 0.0996 - accuracy: 0.9777 - val_loss: 0.1707 - val_accuracy: 0.9702\n",
      "Epoch 5/10\n",
      "375/375 [==============================] - 2s 7ms/step - loss: 0.0899 - accuracy: 0.9809 - val_loss: 0.2078 - val_accuracy: 0.9714\n",
      "Epoch 6/10\n",
      "375/375 [==============================] - 2s 7ms/step - loss: 0.0859 - accuracy: 0.9837 - val_loss: 0.2214 - val_accuracy: 0.9704\n",
      "Epoch 7/10\n",
      "375/375 [==============================] - 2s 6ms/step - loss: 0.0746 - accuracy: 0.9858 - val_loss: 0.2182 - val_accuracy: 0.9743\n",
      "Epoch 8/10\n",
      "375/375 [==============================] - 2s 6ms/step - loss: 0.0710 - accuracy: 0.9878 - val_loss: 0.3029 - val_accuracy: 0.9704\n",
      "Epoch 9/10\n",
      "375/375 [==============================] - 2s 7ms/step - loss: 0.0608 - accuracy: 0.9891 - val_loss: 0.3119 - val_accuracy: 0.9694\n",
      "Epoch 10/10\n",
      "375/375 [==============================] - 2s 6ms/step - loss: 0.0525 - accuracy: 0.9904 - val_loss: 0.2591 - val_accuracy: 0.9757\n"
     ]
    },
    {
     "data": {
      "text/plain": [
       "<keras.callbacks.History at 0x299b31fd0>"
      ]
     },
     "execution_count": 6,
     "metadata": {},
     "output_type": "execute_result"
    }
   ],
   "source": [
    "model = keras.Sequential([\n",
    "    layers.Dense(512, activation=\"relu\"),\n",
    "    layers.Dense(10, activation=\"softmax\")\n",
    "])\n",
    "model.compile(optimizer=keras.optimizers.RMSprop(1e-2),\n",
    "              loss=\"sparse_categorical_crossentropy\",\n",
    "              metrics=[\"accuracy\"])\n",
    "model.fit(train_images, train_labels,\n",
    "          epochs=10,\n",
    "          batch_size=128,\n",
    "          validation_split=0.2)"
   ]
  },
  {
   "cell_type": "markdown",
   "metadata": {
    "colab_type": "text"
   },
   "source": [
    "### Leveraging better architecture priors"
   ]
  },
  {
   "cell_type": "markdown",
   "metadata": {
    "colab_type": "text"
   },
   "source": [
    "### Increasing model capacity"
   ]
  },
  {
   "cell_type": "markdown",
   "metadata": {
    "colab_type": "text"
   },
   "source": [
    "**A simple logistic regression on MNIST**"
   ]
  },
  {
   "cell_type": "code",
   "execution_count": 7,
   "metadata": {
    "colab_type": "code"
   },
   "outputs": [
    {
     "name": "stdout",
     "output_type": "stream",
     "text": [
      "Epoch 1/20\n",
      "  1/375 [..............................] - ETA: 1:43 - loss: 2.3993 - accuracy: 0.0781"
     ]
    },
    {
     "name": "stderr",
     "output_type": "stream",
     "text": [
      "2022-06-14 10:14:06.190995: I tensorflow/core/grappler/optimizers/custom_graph_optimizer_registry.cc:113] Plugin optimizer for device_type GPU is enabled.\n"
     ]
    },
    {
     "name": "stdout",
     "output_type": "stream",
     "text": [
      "367/375 [============================>.] - ETA: 0s - loss: 0.6900 - accuracy: 0.8264"
     ]
    },
    {
     "name": "stderr",
     "output_type": "stream",
     "text": [
      "2022-06-14 10:14:08.129651: I tensorflow/core/grappler/optimizers/custom_graph_optimizer_registry.cc:113] Plugin optimizer for device_type GPU is enabled.\n"
     ]
    },
    {
     "name": "stdout",
     "output_type": "stream",
     "text": [
      "375/375 [==============================] - 2s 6ms/step - loss: 0.6831 - accuracy: 0.8280 - val_loss: 0.3590 - val_accuracy: 0.9030\n",
      "Epoch 2/20\n",
      "375/375 [==============================] - 2s 5ms/step - loss: 0.3518 - accuracy: 0.9029 - val_loss: 0.3087 - val_accuracy: 0.9135\n",
      "Epoch 3/20\n",
      "375/375 [==============================] - 2s 5ms/step - loss: 0.3155 - accuracy: 0.9128 - val_loss: 0.2897 - val_accuracy: 0.9199\n",
      "Epoch 4/20\n",
      "375/375 [==============================] - 2s 5ms/step - loss: 0.2995 - accuracy: 0.9156 - val_loss: 0.2819 - val_accuracy: 0.9217\n",
      "Epoch 5/20\n",
      "375/375 [==============================] - 2s 5ms/step - loss: 0.2897 - accuracy: 0.9190 - val_loss: 0.2767 - val_accuracy: 0.9232\n",
      "Epoch 6/20\n",
      "375/375 [==============================] - 2s 5ms/step - loss: 0.2831 - accuracy: 0.9207 - val_loss: 0.2721 - val_accuracy: 0.9257\n",
      "Epoch 7/20\n",
      "375/375 [==============================] - 2s 5ms/step - loss: 0.2780 - accuracy: 0.9225 - val_loss: 0.2691 - val_accuracy: 0.9260\n",
      "Epoch 8/20\n",
      "375/375 [==============================] - 2s 5ms/step - loss: 0.2741 - accuracy: 0.9235 - val_loss: 0.2681 - val_accuracy: 0.9258\n",
      "Epoch 9/20\n",
      "375/375 [==============================] - 2s 5ms/step - loss: 0.2713 - accuracy: 0.9242 - val_loss: 0.2661 - val_accuracy: 0.9275\n",
      "Epoch 10/20\n",
      "375/375 [==============================] - 2s 5ms/step - loss: 0.2684 - accuracy: 0.9255 - val_loss: 0.2638 - val_accuracy: 0.9280\n",
      "Epoch 11/20\n",
      "375/375 [==============================] - 2s 5ms/step - loss: 0.2665 - accuracy: 0.9264 - val_loss: 0.2657 - val_accuracy: 0.9278\n",
      "Epoch 12/20\n",
      "375/375 [==============================] - 2s 5ms/step - loss: 0.2647 - accuracy: 0.9270 - val_loss: 0.2625 - val_accuracy: 0.9292\n",
      "Epoch 13/20\n",
      "375/375 [==============================] - 2s 5ms/step - loss: 0.2633 - accuracy: 0.9270 - val_loss: 0.2621 - val_accuracy: 0.9298\n",
      "Epoch 14/20\n",
      "375/375 [==============================] - 2s 5ms/step - loss: 0.2614 - accuracy: 0.9281 - val_loss: 0.2613 - val_accuracy: 0.9308\n",
      "Epoch 15/20\n",
      "375/375 [==============================] - 2s 5ms/step - loss: 0.2603 - accuracy: 0.9286 - val_loss: 0.2627 - val_accuracy: 0.9295\n",
      "Epoch 16/20\n",
      "375/375 [==============================] - 2s 5ms/step - loss: 0.2592 - accuracy: 0.9291 - val_loss: 0.2620 - val_accuracy: 0.9296\n",
      "Epoch 17/20\n",
      "375/375 [==============================] - 2s 5ms/step - loss: 0.2582 - accuracy: 0.9295 - val_loss: 0.2622 - val_accuracy: 0.9306\n",
      "Epoch 18/20\n",
      "375/375 [==============================] - 2s 5ms/step - loss: 0.2574 - accuracy: 0.9298 - val_loss: 0.2618 - val_accuracy: 0.9302\n",
      "Epoch 19/20\n",
      "375/375 [==============================] - 2s 6ms/step - loss: 0.2563 - accuracy: 0.9297 - val_loss: 0.2605 - val_accuracy: 0.9302\n",
      "Epoch 20/20\n",
      "375/375 [==============================] - 2s 5ms/step - loss: 0.2553 - accuracy: 0.9302 - val_loss: 0.2609 - val_accuracy: 0.9298\n"
     ]
    }
   ],
   "source": [
    "model = keras.Sequential([layers.Dense(10, activation=\"softmax\")])\n",
    "model.compile(optimizer=\"rmsprop\",\n",
    "              loss=\"sparse_categorical_crossentropy\",\n",
    "              metrics=[\"accuracy\"])\n",
    "history_small_model = model.fit(\n",
    "    train_images, train_labels,\n",
    "    epochs=20,\n",
    "    batch_size=128,\n",
    "    validation_split=0.2)"
   ]
  },
  {
   "cell_type": "code",
   "execution_count": 8,
   "metadata": {
    "colab_type": "code"
   },
   "outputs": [
    {
     "data": {
      "text/plain": [
       "<matplotlib.legend.Legend at 0x17e9c4e80>"
      ]
     },
     "execution_count": 8,
     "metadata": {},
     "output_type": "execute_result"
    },
    {
     "data": {
      "image/png": "[encoded data removed]",
      "text/plain": [
       "<Figure size 432x288 with 1 Axes>"
      ]
     },
     "metadata": {
      "needs_background": "light"
     },
     "output_type": "display_data"
    }
   ],
   "source": [
    "import matplotlib.pyplot as plt\n",
    "val_loss = history_small_model.history[\"val_loss\"]\n",
    "epochs = range(1, 21)\n",
    "plt.plot(epochs, val_loss, \"b--\",\n",
    "         label=\"Validation loss\")\n",
    "plt.title(\"Effect of insufficient model capacity on validation loss\")\n",
    "plt.xlabel(\"Epochs\")\n",
    "plt.ylabel(\"Loss\")\n",
    "plt.legend()"
   ]
  },
  {
   "cell_type": "code",
   "execution_count": 9,
   "metadata": {
    "colab_type": "code"
   },
   "outputs": [
    {
     "name": "stdout",
     "output_type": "stream",
     "text": [
      "Epoch 1/20\n"
     ]
    },
    {
     "name": "stderr",
     "output_type": "stream",
     "text": [
      "2022-06-14 10:14:53.430693: I tensorflow/core/grappler/optimizers/custom_graph_optimizer_registry.cc:113] Plugin optimizer for device_type GPU is enabled.\n"
     ]
    },
    {
     "name": "stdout",
     "output_type": "stream",
     "text": [
      "375/375 [==============================] - ETA: 0s - loss: 0.3604 - accuracy: 0.8966"
     ]
    },
    {
     "name": "stderr",
     "output_type": "stream",
     "text": [
      "2022-06-14 10:14:56.169633: I tensorflow/core/grappler/optimizers/custom_graph_optimizer_registry.cc:113] Plugin optimizer for device_type GPU is enabled.\n"
     ]
    },
    {
     "name": "stdout",
     "output_type": "stream",
     "text": [
      "375/375 [==============================] - 3s 7ms/step - loss: 0.3604 - accuracy: 0.8966 - val_loss: 0.1861 - val_accuracy: 0.9462\n",
      "Epoch 2/20\n",
      "375/375 [==============================] - 3s 7ms/step - loss: 0.1596 - accuracy: 0.9518 - val_loss: 0.1371 - val_accuracy: 0.9603\n",
      "Epoch 3/20\n",
      "375/375 [==============================] - 3s 7ms/step - loss: 0.1127 - accuracy: 0.9662 - val_loss: 0.1166 - val_accuracy: 0.9648\n",
      "Epoch 4/20\n",
      "375/375 [==============================] - 2s 7ms/step - loss: 0.0879 - accuracy: 0.9731 - val_loss: 0.1110 - val_accuracy: 0.9672\n",
      "Epoch 5/20\n",
      "375/375 [==============================] - 3s 7ms/step - loss: 0.0700 - accuracy: 0.9780 - val_loss: 0.1007 - val_accuracy: 0.9715\n",
      "Epoch 6/20\n",
      "375/375 [==============================] - 3s 7ms/step - loss: 0.0577 - accuracy: 0.9821 - val_loss: 0.0939 - val_accuracy: 0.9733\n",
      "Epoch 7/20\n",
      "375/375 [==============================] - 2s 7ms/step - loss: 0.0474 - accuracy: 0.9853 - val_loss: 0.0947 - val_accuracy: 0.9738\n",
      "Epoch 8/20\n",
      "375/375 [==============================] - 3s 7ms/step - loss: 0.0392 - accuracy: 0.9880 - val_loss: 0.1041 - val_accuracy: 0.9721\n",
      "Epoch 9/20\n",
      "375/375 [==============================] - 3s 7ms/step - loss: 0.0331 - accuracy: 0.9900 - val_loss: 0.0983 - val_accuracy: 0.9757\n",
      "Epoch 10/20\n",
      "375/375 [==============================] - 3s 7ms/step - loss: 0.0279 - accuracy: 0.9913 - val_loss: 0.1010 - val_accuracy: 0.9727\n",
      "Epoch 11/20\n",
      "375/375 [==============================] - 3s 7ms/step - loss: 0.0237 - accuracy: 0.9928 - val_loss: 0.0991 - val_accuracy: 0.9757\n",
      "Epoch 12/20\n",
      "375/375 [==============================] - 3s 7ms/step - loss: 0.0202 - accuracy: 0.9936 - val_loss: 0.1137 - val_accuracy: 0.9737\n",
      "Epoch 13/20\n",
      "375/375 [==============================] - 3s 7ms/step - loss: 0.0169 - accuracy: 0.9950 - val_loss: 0.1149 - val_accuracy: 0.9742\n",
      "Epoch 14/20\n",
      "375/375 [==============================] - 2s 7ms/step - loss: 0.0144 - accuracy: 0.9953 - val_loss: 0.1080 - val_accuracy: 0.9755\n",
      "Epoch 15/20\n",
      "375/375 [==============================] - 2s 7ms/step - loss: 0.0117 - accuracy: 0.9966 - val_loss: 0.1319 - val_accuracy: 0.9730\n",
      "Epoch 16/20\n",
      "375/375 [==============================] - 3s 7ms/step - loss: 0.0115 - accuracy: 0.9964 - val_loss: 0.1192 - val_accuracy: 0.9776\n",
      "Epoch 17/20\n",
      "375/375 [==============================] - 2s 7ms/step - loss: 0.0092 - accuracy: 0.9972 - val_loss: 0.1241 - val_accuracy: 0.9765\n",
      "Epoch 18/20\n",
      "375/375 [==============================] - 3s 7ms/step - loss: 0.0074 - accuracy: 0.9979 - val_loss: 0.1316 - val_accuracy: 0.9759\n",
      "Epoch 19/20\n",
      "375/375 [==============================] - 3s 7ms/step - loss: 0.0073 - accuracy: 0.9977 - val_loss: 0.1377 - val_accuracy: 0.9769\n",
      "Epoch 20/20\n",
      "375/375 [==============================] - 3s 7ms/step - loss: 0.0062 - accuracy: 0.9981 - val_loss: 0.1602 - val_accuracy: 0.9732\n"
     ]
    }
   ],
   "source": [
    "model = keras.Sequential([\n",
    "    layers.Dense(96, activation=\"relu\"),\n",
    "    layers.Dense(96, activation=\"relu\"),\n",
    "    layers.Dense(10, activation=\"softmax\"),\n",
    "])\n",
    "model.compile(optimizer=\"rmsprop\",\n",
    "              loss=\"sparse_categorical_crossentropy\",\n",
    "              metrics=[\"accuracy\"])\n",
    "history_large_model = model.fit(\n",
    "    train_images, train_labels,\n",
    "    epochs=20,\n",
    "    batch_size=128,\n",
    "    validation_split=0.2)"
   ]
  },
  {
   "cell_type": "markdown",
   "metadata": {
    "colab_type": "text"
   },
   "source": [
    "## Improving generalization"
   ]
  },
  {
   "cell_type": "markdown",
   "metadata": {
    "colab_type": "text"
   },
   "source": [
    "### Dataset curation"
   ]
  },
  {
   "cell_type": "markdown",
   "metadata": {
    "colab_type": "text"
   },
   "source": [
    "### Feature engineering"
   ]
  },
  {
   "cell_type": "markdown",
   "metadata": {
    "colab_type": "text"
   },
   "source": [
    "### Using early stopping"
   ]
  },
  {
   "cell_type": "markdown",
   "metadata": {
    "colab_type": "text"
   },
   "source": [
    "### Regularizing your model"
   ]
  },
  {
   "cell_type": "markdown",
   "metadata": {
    "colab_type": "text"
   },
   "source": [
    "#### Reducing the network's size"
   ]
  },
  {
   "cell_type": "markdown",
   "metadata": {
    "colab_type": "text"
   },
   "source": [
    "**Original model**"
   ]
  },
  {
   "cell_type": "code",
   "execution_count": 10,
   "metadata": {
    "colab_type": "code"
   },
   "outputs": [
    {
     "name": "stdout",
     "output_type": "stream",
     "text": [
      "Epoch 1/20\n"
     ]
    },
    {
     "name": "stderr",
     "output_type": "stream",
     "text": [
      "2022-06-14 10:15:53.026390: I tensorflow/core/grappler/optimizers/custom_graph_optimizer_registry.cc:113] Plugin optimizer for device_type GPU is enabled.\n"
     ]
    },
    {
     "name": "stdout",
     "output_type": "stream",
     "text": [
      "30/30 [==============================] - 3s 44ms/step - loss: 0.5020 - accuracy: 0.7904 - val_loss: 0.3680 - val_accuracy: 0.8774\n",
      "Epoch 2/20\n",
      " 1/30 [>.............................] - ETA: 0s - loss: 0.3289 - accuracy: 0.9258"
     ]
    },
    {
     "name": "stderr",
     "output_type": "stream",
     "text": [
      "2022-06-14 10:15:55.058747: I tensorflow/core/grappler/optimizers/custom_graph_optimizer_registry.cc:113] Plugin optimizer for device_type GPU is enabled.\n"
     ]
    },
    {
     "name": "stdout",
     "output_type": "stream",
     "text": [
      "30/30 [==============================] - 0s 15ms/step - loss: 0.3000 - accuracy: 0.8995 - val_loss: 0.2970 - val_accuracy: 0.8910\n",
      "Epoch 3/20\n",
      "30/30 [==============================] - 0s 14ms/step - loss: 0.2164 - accuracy: 0.9307 - val_loss: 0.2795 - val_accuracy: 0.8897\n",
      "Epoch 4/20\n",
      "30/30 [==============================] - 0s 14ms/step - loss: 0.1744 - accuracy: 0.9442 - val_loss: 0.2752 - val_accuracy: 0.8883\n",
      "Epoch 5/20\n",
      "30/30 [==============================] - 0s 14ms/step - loss: 0.1392 - accuracy: 0.9571 - val_loss: 0.2796 - val_accuracy: 0.8901\n",
      "Epoch 6/20\n",
      "30/30 [==============================] - 0s 14ms/step - loss: 0.1186 - accuracy: 0.9622 - val_loss: 0.3442 - val_accuracy: 0.8701\n",
      "Epoch 7/20\n",
      "30/30 [==============================] - 0s 14ms/step - loss: 0.0951 - accuracy: 0.9724 - val_loss: 0.3114 - val_accuracy: 0.8843\n",
      "Epoch 8/20\n",
      "30/30 [==============================] - 0s 15ms/step - loss: 0.0783 - accuracy: 0.9775 - val_loss: 0.3421 - val_accuracy: 0.8793\n",
      "Epoch 9/20\n",
      "30/30 [==============================] - 0s 16ms/step - loss: 0.0677 - accuracy: 0.9816 - val_loss: 0.3575 - val_accuracy: 0.8811\n",
      "Epoch 10/20\n",
      "30/30 [==============================] - 0s 15ms/step - loss: 0.0534 - accuracy: 0.9866 - val_loss: 0.3831 - val_accuracy: 0.8788\n",
      "Epoch 11/20\n",
      "30/30 [==============================] - 0s 14ms/step - loss: 0.0448 - accuracy: 0.9889 - val_loss: 0.4143 - val_accuracy: 0.8741\n",
      "Epoch 12/20\n",
      "30/30 [==============================] - 0s 14ms/step - loss: 0.0341 - accuracy: 0.9925 - val_loss: 0.4405 - val_accuracy: 0.8750\n",
      "Epoch 13/20\n",
      "30/30 [==============================] - 0s 14ms/step - loss: 0.0274 - accuracy: 0.9944 - val_loss: 0.4991 - val_accuracy: 0.8668\n",
      "Epoch 14/20\n",
      "30/30 [==============================] - 0s 16ms/step - loss: 0.0244 - accuracy: 0.9948 - val_loss: 0.5063 - val_accuracy: 0.8707\n",
      "Epoch 15/20\n",
      "30/30 [==============================] - 0s 14ms/step - loss: 0.0183 - accuracy: 0.9962 - val_loss: 0.5361 - val_accuracy: 0.8712\n",
      "Epoch 16/20\n",
      "30/30 [==============================] - 0s 14ms/step - loss: 0.0136 - accuracy: 0.9977 - val_loss: 0.5786 - val_accuracy: 0.8664\n",
      "Epoch 17/20\n",
      "30/30 [==============================] - 0s 14ms/step - loss: 0.0108 - accuracy: 0.9988 - val_loss: 0.6092 - val_accuracy: 0.8658\n",
      "Epoch 18/20\n",
      "30/30 [==============================] - 0s 14ms/step - loss: 0.0099 - accuracy: 0.9983 - val_loss: 0.6443 - val_accuracy: 0.8665\n",
      "Epoch 19/20\n",
      "30/30 [==============================] - 0s 14ms/step - loss: 0.0050 - accuracy: 0.9996 - val_loss: 0.6809 - val_accuracy: 0.8645\n",
      "Epoch 20/20\n",
      "30/30 [==============================] - 0s 14ms/step - loss: 0.0076 - accuracy: 0.9985 - val_loss: 0.7135 - val_accuracy: 0.8653\n"
     ]
    }
   ],
   "source": [
    "from tensorflow.keras.datasets import imdb\n",
    "(train_data, train_labels), _ = imdb.load_data(num_words=10000)\n",
    "\n",
    "def vectorize_sequences(sequences, dimension=10000):\n",
    "    results = np.zeros((len(sequences), dimension))\n",
    "    for i, sequence in enumerate(sequences):\n",
    "        results[i, sequence] = 1.\n",
    "    return results\n",
    "train_data = vectorize_sequences(train_data)\n",
    "\n",
    "model = keras.Sequential([\n",
    "    layers.Dense(16, activation=\"relu\"),\n",
    "    layers.Dense(16, activation=\"relu\"),\n",
    "    layers.Dense(1, activation=\"sigmoid\")\n",
    "])\n",
    "model.compile(optimizer=\"rmsprop\",\n",
    "              loss=\"binary_crossentropy\",\n",
    "              metrics=[\"accuracy\"])\n",
    "history_original = model.fit(train_data, train_labels,\n",
    "                             epochs=20, batch_size=512, validation_split=0.4)"
   ]
  },
  {
   "cell_type": "markdown",
   "metadata": {
    "colab_type": "text"
   },
   "source": [
    "**Version of the model with lower capacity**"
   ]
  },
  {
   "cell_type": "code",
   "execution_count": 11,
   "metadata": {
    "colab_type": "code"
   },
   "outputs": [
    {
     "name": "stdout",
     "output_type": "stream",
     "text": [
      "Epoch 1/20\n"
     ]
    },
    {
     "name": "stderr",
     "output_type": "stream",
     "text": [
      "2022-06-14 10:16:07.663372: I tensorflow/core/grappler/optimizers/custom_graph_optimizer_registry.cc:113] Plugin optimizer for device_type GPU is enabled.\n"
     ]
    },
    {
     "name": "stdout",
     "output_type": "stream",
     "text": [
      "30/30 [==============================] - 2s 37ms/step - loss: 0.5672 - accuracy: 0.7599 - val_loss: 0.4673 - val_accuracy: 0.8479\n",
      "Epoch 2/20\n",
      " 1/30 [>.............................] - ETA: 0s - loss: 0.4403 - accuracy: 0.8750"
     ]
    },
    {
     "name": "stderr",
     "output_type": "stream",
     "text": [
      "2022-06-14 10:16:08.986408: I tensorflow/core/grappler/optimizers/custom_graph_optimizer_registry.cc:113] Plugin optimizer for device_type GPU is enabled.\n"
     ]
    },
    {
     "name": "stdout",
     "output_type": "stream",
     "text": [
      "30/30 [==============================] - 0s 15ms/step - loss: 0.3975 - accuracy: 0.8875 - val_loss: 0.3753 - val_accuracy: 0.8776\n",
      "Epoch 3/20\n",
      "30/30 [==============================] - 0s 14ms/step - loss: 0.3060 - accuracy: 0.9167 - val_loss: 0.3247 - val_accuracy: 0.8846\n",
      "Epoch 4/20\n",
      "30/30 [==============================] - 0s 13ms/step - loss: 0.2482 - accuracy: 0.9301 - val_loss: 0.2969 - val_accuracy: 0.8880\n",
      "Epoch 5/20\n",
      "30/30 [==============================] - 0s 14ms/step - loss: 0.2080 - accuracy: 0.9413 - val_loss: 0.2841 - val_accuracy: 0.8895\n",
      "Epoch 6/20\n",
      "30/30 [==============================] - 0s 13ms/step - loss: 0.1788 - accuracy: 0.9503 - val_loss: 0.2818 - val_accuracy: 0.8866\n",
      "Epoch 7/20\n",
      "30/30 [==============================] - 0s 14ms/step - loss: 0.1557 - accuracy: 0.9575 - val_loss: 0.2854 - val_accuracy: 0.8842\n",
      "Epoch 8/20\n",
      "30/30 [==============================] - 0s 14ms/step - loss: 0.1382 - accuracy: 0.9627 - val_loss: 0.2773 - val_accuracy: 0.8891\n",
      "Epoch 9/20\n",
      "30/30 [==============================] - 0s 14ms/step - loss: 0.1222 - accuracy: 0.9673 - val_loss: 0.2827 - val_accuracy: 0.8876\n",
      "Epoch 10/20\n",
      "30/30 [==============================] - 0s 14ms/step - loss: 0.1088 - accuracy: 0.9711 - val_loss: 0.2906 - val_accuracy: 0.8867\n",
      "Epoch 11/20\n",
      "30/30 [==============================] - 0s 14ms/step - loss: 0.0957 - accuracy: 0.9751 - val_loss: 0.3023 - val_accuracy: 0.8859\n",
      "Epoch 12/20\n",
      "30/30 [==============================] - 0s 13ms/step - loss: 0.0865 - accuracy: 0.9791 - val_loss: 0.3156 - val_accuracy: 0.8816\n",
      "Epoch 13/20\n",
      "30/30 [==============================] - 0s 13ms/step - loss: 0.0770 - accuracy: 0.9828 - val_loss: 0.3203 - val_accuracy: 0.8834\n",
      "Epoch 14/20\n",
      "30/30 [==============================] - 0s 14ms/step - loss: 0.0680 - accuracy: 0.9846 - val_loss: 0.3367 - val_accuracy: 0.8821\n",
      "Epoch 15/20\n",
      "30/30 [==============================] - 0s 14ms/step - loss: 0.0602 - accuracy: 0.9879 - val_loss: 0.3518 - val_accuracy: 0.8814\n",
      "Epoch 16/20\n",
      "30/30 [==============================] - 0s 16ms/step - loss: 0.0535 - accuracy: 0.9887 - val_loss: 0.3646 - val_accuracy: 0.8793\n",
      "Epoch 17/20\n",
      "30/30 [==============================] - 0s 14ms/step - loss: 0.0474 - accuracy: 0.9911 - val_loss: 0.3764 - val_accuracy: 0.8794\n",
      "Epoch 18/20\n",
      "30/30 [==============================] - 0s 13ms/step - loss: 0.0415 - accuracy: 0.9921 - val_loss: 0.3914 - val_accuracy: 0.8768\n",
      "Epoch 19/20\n",
      "30/30 [==============================] - 0s 13ms/step - loss: 0.0361 - accuracy: 0.9941 - val_loss: 0.4088 - val_accuracy: 0.8781\n",
      "Epoch 20/20\n",
      "30/30 [==============================] - 0s 13ms/step - loss: 0.0318 - accuracy: 0.9947 - val_loss: 0.4338 - val_accuracy: 0.8739\n"
     ]
    }
   ],
   "source": [
    "model = keras.Sequential([\n",
    "    layers.Dense(4, activation=\"relu\"),\n",
    "    layers.Dense(4, activation=\"relu\"),\n",
    "    layers.Dense(1, activation=\"sigmoid\")\n",
    "])\n",
    "model.compile(optimizer=\"rmsprop\",\n",
    "              loss=\"binary_crossentropy\",\n",
    "              metrics=[\"accuracy\"])\n",
    "history_smaller_model = model.fit(\n",
    "    train_data, train_labels,\n",
    "    epochs=20, batch_size=512, validation_split=0.4)"
   ]
  },
  {
   "cell_type": "markdown",
   "metadata": {
    "colab_type": "text"
   },
   "source": [
    "**Version of the model with higher capacity**"
   ]
  },
  {
   "cell_type": "code",
   "execution_count": 12,
   "metadata": {
    "colab_type": "code"
   },
   "outputs": [
    {
     "name": "stdout",
     "output_type": "stream",
     "text": [
      "Epoch 1/20\n"
     ]
    },
    {
     "name": "stderr",
     "output_type": "stream",
     "text": [
      "2022-06-14 10:16:24.085277: I tensorflow/core/grappler/optimizers/custom_graph_optimizer_registry.cc:113] Plugin optimizer for device_type GPU is enabled.\n"
     ]
    },
    {
     "name": "stdout",
     "output_type": "stream",
     "text": [
      "30/30 [==============================] - ETA: 0s - loss: 0.5504 - accuracy: 0.7570"
     ]
    },
    {
     "name": "stderr",
     "output_type": "stream",
     "text": [
      "2022-06-14 10:16:26.031825: I tensorflow/core/grappler/optimizers/custom_graph_optimizer_registry.cc:113] Plugin optimizer for device_type GPU is enabled.\n"
     ]
    },
    {
     "name": "stdout",
     "output_type": "stream",
     "text": [
      "30/30 [==============================] - 3s 62ms/step - loss: 0.5504 - accuracy: 0.7570 - val_loss: 0.3216 - val_accuracy: 0.8727\n",
      "Epoch 2/20\n",
      "30/30 [==============================] - 1s 29ms/step - loss: 0.2567 - accuracy: 0.9021 - val_loss: 0.2647 - val_accuracy: 0.8978\n",
      "Epoch 3/20\n",
      "30/30 [==============================] - 1s 30ms/step - loss: 0.1731 - accuracy: 0.9351 - val_loss: 0.2746 - val_accuracy: 0.8923\n",
      "Epoch 4/20\n",
      "30/30 [==============================] - 1s 30ms/step - loss: 0.0778 - accuracy: 0.9727 - val_loss: 0.4289 - val_accuracy: 0.8693\n",
      "Epoch 5/20\n",
      "30/30 [==============================] - 1s 28ms/step - loss: 0.1011 - accuracy: 0.9799 - val_loss: 0.3428 - val_accuracy: 0.8842\n",
      "Epoch 6/20\n",
      "30/30 [==============================] - 1s 28ms/step - loss: 0.0061 - accuracy: 0.9994 - val_loss: 0.5026 - val_accuracy: 0.8889\n",
      "Epoch 7/20\n",
      "30/30 [==============================] - 1s 28ms/step - loss: 7.8824e-04 - accuracy: 0.9999 - val_loss: 0.6162 - val_accuracy: 0.8859\n",
      "Epoch 8/20\n",
      "30/30 [==============================] - 1s 29ms/step - loss: 1.2330e-04 - accuracy: 1.0000 - val_loss: 0.7241 - val_accuracy: 0.8876\n",
      "Epoch 9/20\n",
      "30/30 [==============================] - 1s 27ms/step - loss: 2.0165e-05 - accuracy: 1.0000 - val_loss: 0.8257 - val_accuracy: 0.8870\n",
      "Epoch 10/20\n",
      "30/30 [==============================] - 1s 27ms/step - loss: 4.5215e-06 - accuracy: 1.0000 - val_loss: 0.9354 - val_accuracy: 0.8857\n",
      "Epoch 11/20\n",
      "30/30 [==============================] - 1s 27ms/step - loss: 1.2962e-06 - accuracy: 1.0000 - val_loss: 1.0231 - val_accuracy: 0.8856\n",
      "Epoch 12/20\n",
      "30/30 [==============================] - 1s 28ms/step - loss: 3.4667e-07 - accuracy: 1.0000 - val_loss: 1.0912 - val_accuracy: 0.8871\n",
      "Epoch 13/20\n",
      "30/30 [==============================] - 1s 28ms/step - loss: 1.2948e-07 - accuracy: 1.0000 - val_loss: 1.1656 - val_accuracy: 0.8867\n",
      "Epoch 14/20\n",
      "30/30 [==============================] - 1s 28ms/step - loss: 5.4480e-08 - accuracy: 1.0000 - val_loss: 1.2071 - val_accuracy: 0.8871\n",
      "Epoch 15/20\n",
      "30/30 [==============================] - 1s 28ms/step - loss: 3.0468e-08 - accuracy: 1.0000 - val_loss: 1.2443 - val_accuracy: 0.8863\n",
      "Epoch 16/20\n",
      "30/30 [==============================] - 1s 28ms/step - loss: 2.0211e-08 - accuracy: 1.0000 - val_loss: 1.2614 - val_accuracy: 0.8866\n",
      "Epoch 17/20\n",
      "30/30 [==============================] - 1s 28ms/step - loss: 1.4692e-08 - accuracy: 1.0000 - val_loss: 1.2776 - val_accuracy: 0.8863\n",
      "Epoch 18/20\n",
      "30/30 [==============================] - 1s 29ms/step - loss: 1.1144e-08 - accuracy: 1.0000 - val_loss: 1.2946 - val_accuracy: 0.8872\n",
      "Epoch 19/20\n",
      "30/30 [==============================] - 1s 27ms/step - loss: 8.8965e-09 - accuracy: 1.0000 - val_loss: 1.3051 - val_accuracy: 0.8872\n",
      "Epoch 20/20\n",
      "30/30 [==============================] - 1s 28ms/step - loss: 7.2769e-09 - accuracy: 1.0000 - val_loss: 1.3123 - val_accuracy: 0.8867\n"
     ]
    }
   ],
   "source": [
    "model = keras.Sequential([\n",
    "    layers.Dense(512, activation=\"relu\"),\n",
    "    layers.Dense(512, activation=\"relu\"),\n",
    "    layers.Dense(1, activation=\"sigmoid\")\n",
    "])\n",
    "model.compile(optimizer=\"rmsprop\",\n",
    "              loss=\"binary_crossentropy\",\n",
    "              metrics=[\"accuracy\"])\n",
    "history_larger_model = model.fit(\n",
    "    train_data, train_labels,\n",
    "    epochs=20, batch_size=512, validation_split=0.4)"
   ]
  },
  {
   "cell_type": "markdown",
   "metadata": {
    "colab_type": "text"
   },
   "source": [
    "#### Adding weight regularization"
   ]
  },
  {
   "cell_type": "markdown",
   "metadata": {
    "colab_type": "text"
   },
   "source": [
    "**Adding L2 weight regularization to the model**"
   ]
  },
  {
   "cell_type": "code",
   "execution_count": 13,
   "metadata": {
    "colab_type": "code"
   },
   "outputs": [
    {
     "name": "stdout",
     "output_type": "stream",
     "text": [
      "Epoch 1/20\n"
     ]
    },
    {
     "name": "stderr",
     "output_type": "stream",
     "text": [
      "2022-06-14 10:16:46.263075: I tensorflow/core/grappler/optimizers/custom_graph_optimizer_registry.cc:113] Plugin optimizer for device_type GPU is enabled.\n"
     ]
    },
    {
     "name": "stdout",
     "output_type": "stream",
     "text": [
      "30/30 [==============================] - ETA: 0s - loss: 0.5754 - accuracy: 0.7896"
     ]
    },
    {
     "name": "stderr",
     "output_type": "stream",
     "text": [
      "2022-06-14 10:16:47.609745: I tensorflow/core/grappler/optimizers/custom_graph_optimizer_registry.cc:113] Plugin optimizer for device_type GPU is enabled.\n"
     ]
    },
    {
     "name": "stdout",
     "output_type": "stream",
     "text": [
      "30/30 [==============================] - 2s 39ms/step - loss: 0.5754 - accuracy: 0.7896 - val_loss: 0.4398 - val_accuracy: 0.8785\n",
      "Epoch 2/20\n",
      "30/30 [==============================] - 1s 17ms/step - loss: 0.3829 - accuracy: 0.8941 - val_loss: 0.3925 - val_accuracy: 0.8764\n",
      "Epoch 3/20\n",
      "30/30 [==============================] - 0s 15ms/step - loss: 0.3202 - accuracy: 0.9181 - val_loss: 0.3612 - val_accuracy: 0.8892\n",
      "Epoch 4/20\n",
      "30/30 [==============================] - 0s 15ms/step - loss: 0.2906 - accuracy: 0.9282 - val_loss: 0.3588 - val_accuracy: 0.8855\n",
      "Epoch 5/20\n",
      "30/30 [==============================] - 0s 15ms/step - loss: 0.2677 - accuracy: 0.9379 - val_loss: 0.3555 - val_accuracy: 0.8872\n",
      "Epoch 6/20\n",
      "30/30 [==============================] - 0s 16ms/step - loss: 0.2579 - accuracy: 0.9376 - val_loss: 0.3664 - val_accuracy: 0.8825\n",
      "Epoch 7/20\n",
      "30/30 [==============================] - 0s 14ms/step - loss: 0.2506 - accuracy: 0.9405 - val_loss: 0.3749 - val_accuracy: 0.8807\n",
      "Epoch 8/20\n",
      "30/30 [==============================] - 0s 15ms/step - loss: 0.2371 - accuracy: 0.9479 - val_loss: 0.3899 - val_accuracy: 0.8766\n",
      "Epoch 9/20\n",
      "30/30 [==============================] - 0s 15ms/step - loss: 0.2321 - accuracy: 0.9480 - val_loss: 0.3765 - val_accuracy: 0.8824\n",
      "Epoch 10/20\n",
      "30/30 [==============================] - 0s 15ms/step - loss: 0.2242 - accuracy: 0.9527 - val_loss: 0.3862 - val_accuracy: 0.8780\n",
      "Epoch 11/20\n",
      "30/30 [==============================] - 0s 14ms/step - loss: 0.2257 - accuracy: 0.9486 - val_loss: 0.3860 - val_accuracy: 0.8794\n",
      "Epoch 12/20\n",
      "30/30 [==============================] - 0s 15ms/step - loss: 0.2151 - accuracy: 0.9549 - val_loss: 0.3849 - val_accuracy: 0.8800\n",
      "Epoch 13/20\n",
      "30/30 [==============================] - 0s 15ms/step - loss: 0.2170 - accuracy: 0.9533 - val_loss: 0.3908 - val_accuracy: 0.8779\n",
      "Epoch 14/20\n",
      "30/30 [==============================] - 0s 14ms/step - loss: 0.2111 - accuracy: 0.9561 - val_loss: 0.3942 - val_accuracy: 0.8787\n",
      "Epoch 15/20\n",
      "30/30 [==============================] - 0s 16ms/step - loss: 0.2038 - accuracy: 0.9596 - val_loss: 0.4056 - val_accuracy: 0.8767\n",
      "Epoch 16/20\n",
      "30/30 [==============================] - 0s 14ms/step - loss: 0.2083 - accuracy: 0.9560 - val_loss: 0.4070 - val_accuracy: 0.8757\n",
      "Epoch 17/20\n",
      "30/30 [==============================] - 0s 14ms/step - loss: 0.1979 - accuracy: 0.9614 - val_loss: 0.4169 - val_accuracy: 0.8730\n",
      "Epoch 18/20\n",
      "30/30 [==============================] - 0s 14ms/step - loss: 0.1990 - accuracy: 0.9600 - val_loss: 0.4878 - val_accuracy: 0.8554\n",
      "Epoch 19/20\n",
      "30/30 [==============================] - 0s 14ms/step - loss: 0.1968 - accuracy: 0.9605 - val_loss: 0.4251 - val_accuracy: 0.8737\n",
      "Epoch 20/20\n",
      "30/30 [==============================] - 0s 14ms/step - loss: 0.2015 - accuracy: 0.9583 - val_loss: 0.4193 - val_accuracy: 0.8768\n"
     ]
    }
   ],
   "source": [
    "from tensorflow.keras import regularizers\n",
    "model = keras.Sequential([\n",
    "    layers.Dense(16,\n",
    "                 kernel_regularizer=regularizers.l2(0.002),\n",
    "                 activation=\"relu\"),\n",
    "    layers.Dense(16,\n",
    "                 kernel_regularizer=regularizers.l2(0.002),\n",
    "                 activation=\"relu\"),\n",
    "    layers.Dense(1, activation=\"sigmoid\")\n",
    "])\n",
    "model.compile(optimizer=\"rmsprop\",\n",
    "              loss=\"binary_crossentropy\",\n",
    "              metrics=[\"accuracy\"])\n",
    "history_l2_reg = model.fit(\n",
    "    train_data, train_labels,\n",
    "    epochs=20, batch_size=512, validation_split=0.4)"
   ]
  },
  {
   "cell_type": "markdown",
   "metadata": {
    "colab_type": "text"
   },
   "source": [
    "**Different weight regularizers available in Keras**"
   ]
  },
  {
   "cell_type": "code",
   "execution_count": 14,
   "metadata": {
    "colab_type": "code"
   },
   "outputs": [
    {
     "data": {
      "text/plain": [
       "<keras.regularizers.L1L2 at 0x3292c1fd0>"
      ]
     },
     "execution_count": 14,
     "metadata": {},
     "output_type": "execute_result"
    }
   ],
   "source": [
    "from tensorflow.keras import regularizers\n",
    "regularizers.l1(0.001)\n",
    "regularizers.l1_l2(l1=0.001, l2=0.001)"
   ]
  },
  {
   "cell_type": "markdown",
   "metadata": {
    "colab_type": "text"
   },
   "source": [
    "#### Adding dropout"
   ]
  },
  {
   "cell_type": "markdown",
   "metadata": {
    "colab_type": "text"
   },
   "source": [
    "**Adding dropout to the IMDB model**"
   ]
  },
  {
   "cell_type": "code",
   "execution_count": 15,
   "metadata": {
    "colab_type": "code"
   },
   "outputs": [
    {
     "name": "stdout",
     "output_type": "stream",
     "text": [
      "Epoch 1/20\n"
     ]
    },
    {
     "name": "stderr",
     "output_type": "stream",
     "text": [
      "2022-06-14 10:17:01.753366: I tensorflow/core/grappler/optimizers/custom_graph_optimizer_registry.cc:113] Plugin optimizer for device_type GPU is enabled.\n"
     ]
    },
    {
     "name": "stdout",
     "output_type": "stream",
     "text": [
      "30/30 [==============================] - ETA: 0s - loss: 0.6127 - accuracy: 0.6611"
     ]
    },
    {
     "name": "stderr",
     "output_type": "stream",
     "text": [
      "2022-06-14 10:17:02.952769: I tensorflow/core/grappler/optimizers/custom_graph_optimizer_registry.cc:113] Plugin optimizer for device_type GPU is enabled.\n"
     ]
    },
    {
     "name": "stdout",
     "output_type": "stream",
     "text": [
      "30/30 [==============================] - 2s 39ms/step - loss: 0.6127 - accuracy: 0.6611 - val_loss: 0.4683 - val_accuracy: 0.8537\n",
      "Epoch 2/20\n",
      "30/30 [==============================] - 0s 16ms/step - loss: 0.4825 - accuracy: 0.7904 - val_loss: 0.3789 - val_accuracy: 0.8619\n",
      "Epoch 3/20\n",
      "30/30 [==============================] - 0s 16ms/step - loss: 0.4006 - accuracy: 0.8405 - val_loss: 0.3095 - val_accuracy: 0.8855\n",
      "Epoch 4/20\n",
      "30/30 [==============================] - 0s 15ms/step - loss: 0.3405 - accuracy: 0.8785 - val_loss: 0.2842 - val_accuracy: 0.8890\n",
      "Epoch 5/20\n",
      "30/30 [==============================] - 0s 15ms/step - loss: 0.2901 - accuracy: 0.9011 - val_loss: 0.2785 - val_accuracy: 0.8875\n",
      "Epoch 6/20\n",
      "30/30 [==============================] - 0s 15ms/step - loss: 0.2569 - accuracy: 0.9152 - val_loss: 0.2741 - val_accuracy: 0.8902\n",
      "Epoch 7/20\n",
      "30/30 [==============================] - 0s 14ms/step - loss: 0.2190 - accuracy: 0.9330 - val_loss: 0.2788 - val_accuracy: 0.8913\n",
      "Epoch 8/20\n",
      "30/30 [==============================] - 0s 14ms/step - loss: 0.1992 - accuracy: 0.9390 - val_loss: 0.2903 - val_accuracy: 0.8903\n",
      "Epoch 9/20\n",
      "30/30 [==============================] - 0s 14ms/step - loss: 0.1760 - accuracy: 0.9480 - val_loss: 0.3060 - val_accuracy: 0.8906\n",
      "Epoch 10/20\n",
      "30/30 [==============================] - 0s 15ms/step - loss: 0.1605 - accuracy: 0.9561 - val_loss: 0.3208 - val_accuracy: 0.8873\n",
      "Epoch 11/20\n",
      "30/30 [==============================] - 0s 16ms/step - loss: 0.1373 - accuracy: 0.9620 - val_loss: 0.3417 - val_accuracy: 0.8878\n",
      "Epoch 12/20\n",
      "30/30 [==============================] - 0s 15ms/step - loss: 0.1252 - accuracy: 0.9666 - val_loss: 0.3575 - val_accuracy: 0.8881\n",
      "Epoch 13/20\n",
      "30/30 [==============================] - 0s 14ms/step - loss: 0.1085 - accuracy: 0.9705 - val_loss: 0.4176 - val_accuracy: 0.8800\n",
      "Epoch 14/20\n",
      "30/30 [==============================] - 0s 15ms/step - loss: 0.0989 - accuracy: 0.9738 - val_loss: 0.4137 - val_accuracy: 0.8881\n",
      "Epoch 15/20\n",
      "30/30 [==============================] - 0s 15ms/step - loss: 0.0883 - accuracy: 0.9765 - val_loss: 0.4379 - val_accuracy: 0.8838\n",
      "Epoch 16/20\n",
      "30/30 [==============================] - 0s 15ms/step - loss: 0.0846 - accuracy: 0.9787 - val_loss: 0.4604 - val_accuracy: 0.8845\n",
      "Epoch 17/20\n",
      "30/30 [==============================] - 0s 15ms/step - loss: 0.0749 - accuracy: 0.9819 - val_loss: 0.4908 - val_accuracy: 0.8832\n",
      "Epoch 18/20\n",
      "30/30 [==============================] - 0s 16ms/step - loss: 0.0675 - accuracy: 0.9824 - val_loss: 0.5279 - val_accuracy: 0.8849\n",
      "Epoch 19/20\n",
      "30/30 [==============================] - 0s 14ms/step - loss: 0.0674 - accuracy: 0.9821 - val_loss: 0.5593 - val_accuracy: 0.8820\n",
      "Epoch 20/20\n",
      "30/30 [==============================] - 0s 14ms/step - loss: 0.0589 - accuracy: 0.9846 - val_loss: 0.5889 - val_accuracy: 0.8844\n"
     ]
    }
   ],
   "source": [
    "model = keras.Sequential([\n",
    "    layers.Dense(16, activation=\"relu\"),\n",
    "    layers.Dropout(0.5),\n",
    "    layers.Dense(16, activation=\"relu\"),\n",
    "    layers.Dropout(0.5),\n",
    "    layers.Dense(1, activation=\"sigmoid\")\n",
    "])\n",
    "model.compile(optimizer=\"rmsprop\",\n",
    "              loss=\"binary_crossentropy\",\n",
    "              metrics=[\"accuracy\"])\n",
    "history_dropout = model.fit(\n",
    "    train_data, train_labels,\n",
    "    epochs=20, batch_size=512, validation_split=0.4)"
   ]
  },
  {
   "cell_type": "markdown",
   "metadata": {
    "colab_type": "text"
   },
   "source": [
    "## Summary"
   ]
  }
 ],
 "metadata": {
  "colab": {
   "collapsed_sections": [],
   "name": "chapter05_fundamentals-of-ml.i",
   "private_outputs": false,
   "provenance": [],
   "toc_visible": true
  },
  "kernelspec": {
   "display_name": "Python 3.9.12 ('tf')",
   "language": "python",
   "name": "python3"
  },
  "language_info": {
   "codemirror_mode": {
    "name": "ipython",
    "version": 3
   },
   "file_extension": ".py",
   "mimetype": "text/x-python",
   "name": "python",
   "nbconvert_exporter": "python",
   "pygments_lexer": "ipython3",
   "version": "3.9.12"
  },
  "vscode": {
   "interpreter": {
    "hash": "bb3e5a98662ba18bbfdebe8f315a9e260c1d6da64a84910e2c18caf741bb53f2"
   }
  }
 },
 "nbformat": 4,
 "nbformat_minor": 0
}
